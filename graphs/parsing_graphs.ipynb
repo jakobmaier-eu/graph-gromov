{
 "cells": [
  {
   "cell_type": "code",
   "execution_count": 5,
   "metadata": {},
   "outputs": [
    {
     "name": "stdout",
     "output_type": "stream",
     "text": [
      "Number of nodes: 18772\n",
      "Number of edges: 198110\n"
     ]
    }
   ],
   "source": [
    "import networkx as nx\n",
    "\n",
    "# Read the graph from the file\n",
    "G = nx.read_edgelist('../graphs_rawdata/ca-AstroPh.txt')\n",
    "# Rename the edges of G canonically\n",
    "G = nx.convert_node_labels_to_integers(G, first_label=0, ordering='default')\n",
    "# Print the number of nodes and edges in the graph\n",
    "print(\"Number of nodes:\", G.number_of_nodes())\n",
    "print(\"Number of edges:\", G.number_of_edges())\n",
    "\n",
    "# Write G to edgelist\n",
    "nx.write_edgelist(G, 'collaboration_astrophysics')\n"
   ]
  },
  {
   "cell_type": "code",
   "execution_count": null,
   "metadata": {},
   "outputs": [],
   "source": []
  }
 ],
 "metadata": {
  "kernelspec": {
   "display_name": "gromov_venv",
   "language": "python",
   "name": "python3"
  },
  "language_info": {
   "codemirror_mode": {
    "name": "ipython",
    "version": 3
   },
   "file_extension": ".py",
   "mimetype": "text/x-python",
   "name": "python",
   "nbconvert_exporter": "python",
   "pygments_lexer": "ipython3",
   "version": "3.9.13"
  }
 },
 "nbformat": 4,
 "nbformat_minor": 2
}
