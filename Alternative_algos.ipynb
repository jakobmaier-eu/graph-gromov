{
 "cells": [
  {
   "cell_type": "code",
   "execution_count": 1,
   "id": "bb7839c1",
   "metadata": {},
   "outputs": [],
   "source": [
    "import numpy as np\n",
    "import scipy\n",
    "import matplotlib.pyplot as plt\n",
    "from scipy.optimize import linprog, minimize_scalar\n",
    "from mpl_toolkits import mplot3d\n",
    "\n",
    "from functions import *"
   ]
  },
  {
   "cell_type": "code",
   "execution_count": 2,
   "id": "691998a3",
   "metadata": {},
   "outputs": [
    {
     "name": "stdout",
     "output_type": "stream",
     "text": [
      "Ace-algo with n = 200, d = 40, sig = 0 : Overlap(P^, P*) = 0.005, dist(Q^, Qstar) = 0.229128784747792, 0.21794494717703375\n"
     ]
    }
   ],
   "source": [
    "n = 200\n",
    "sigma = 0\n",
    "d = 40\n",
    "A_eq, b_eq = equality_constraints(n)\n",
    "\n",
    "X, Y, Pstar, Qstar = initialise_XYPstarQstar(n, d, sigma, plot=False)\n",
    "Ux,_,VxT = np.linalg.svd(X@X.T, full_matrices=True)\n",
    "Uy,_,VyT = np.linalg.svd(Y@Y.T, full_matrices=True)\n",
    "Q0 = Uy@VxT\n",
    "Phat = permutation_from_ortho(Q0, X, Y, A_eq, b_eq)\n",
    "print(\"Ace-algo with n = \"+str(n)+\", d = \"+str(d)+\", sig = \"+str(sigma)+\" : Overlap(P^, P*) = \"\n",
    "      +str((1/n)*np.trace(Phat.T@Pstar))+ \", dist(Q^, Qstar) = \" + str(np.linalg.norm(Q0 - Qstar)/d)\n",
    "      + \", \"+str(np.linalg.norm(-Q0 - Qstar)/d))\n",
    "    "
   ]
  },
  {
   "cell_type": "code",
   "execution_count": 3,
   "id": "0cd046b6",
   "metadata": {},
   "outputs": [
    {
     "data": {
      "text/plain": [
       "0.22302132169379635"
      ]
     },
     "execution_count": 3,
     "metadata": {},
     "output_type": "execute_result"
    }
   ],
   "source": [
    "X, Y, Pstar, Q1 = initialise_XYPstarQstar(n, d, sigma, plot=False, seed=12)\n",
    "X, Y, Pstar, Q2 = initialise_XYPstarQstar(n, d, sigma, plot=False, seed=1234)\n",
    "np.linalg.norm(-Q1 - Q2)/d"
   ]
  },
  {
   "cell_type": "code",
   "execution_count": 4,
   "id": "630f1073",
   "metadata": {},
   "outputs": [
    {
     "name": "stdout",
     "output_type": "stream",
     "text": [
      "Ace-algo with n = 200, d = 3, sig = 0.01 : Overlap(P^, P*) = 0.0\n",
      "Ace-algo with n = 200, d = 3, sig = 0.1 : Overlap(P^, P*) = 0.0\n",
      "Ace-algo with n = 200, d = 3, sig = 0.2 : Overlap(P^, P*) = 0.0\n",
      "Ace-algo with n = 200, d = 12, sig = 0.01 : Overlap(P^, P*) = 0.005\n",
      "Ace-algo with n = 200, d = 12, sig = 0.1 : Overlap(P^, P*) = 0.01\n",
      "Ace-algo with n = 200, d = 12, sig = 0.2 : Overlap(P^, P*) = 0.005\n",
      "Ace-algo with n = 200, d = 50, sig = 0.01 : Overlap(P^, P*) = 0.01\n",
      "Ace-algo with n = 200, d = 50, sig = 0.1 : Overlap(P^, P*) = 0.0\n",
      "Ace-algo with n = 200, d = 50, sig = 0.2 : Overlap(P^, P*) = 0.005\n"
     ]
    }
   ],
   "source": [
    "# Ace algorithm with Q initialisation\n",
    "\n",
    "for d in [3, 12, 50]:\n",
    "    for sigma in [0.01, 0.1, 0.2]:\n",
    "        X, Y, Pstar, Qstar = initialise_XYPstarQstar(n, d, sigma, plot=False)\n",
    "        Ux,_,VxT = np.linalg.svd(X@X.T, full_matrices=True)\n",
    "        Uy,_,VyT = np.linalg.svd(Y@Y.T, full_matrices=True)\n",
    "        Q0 = Uy@VxT\n",
    "        Phat = permutation_from_ortho(Q0, X, Y, A_eq, b_eq)\n",
    "        print(\"Ace-algo with n = \"+str(n)+\", d = \"+str(d)+\", sig = \"+str(sigma)+\" : Overlap(P^, P*) = \"\n",
    "              +str((1/n)*np.trace(Phat.T@Pstar)))"
   ]
  },
  {
   "cell_type": "code",
   "execution_count": 5,
   "id": "7550d4c4",
   "metadata": {},
   "outputs": [
    {
     "data": {
      "text/plain": [
       "(400, 40000)"
      ]
     },
     "execution_count": 5,
     "metadata": {},
     "output_type": "execute_result"
    }
   ],
   "source": [
    "A_eq.shape"
   ]
  },
  {
   "cell_type": "code",
   "execution_count": 6,
   "id": "2ccee0fd",
   "metadata": {},
   "outputs": [
    {
     "data": {
      "text/plain": [
       "(400,)"
      ]
     },
     "execution_count": 6,
     "metadata": {},
     "output_type": "execute_result"
    }
   ],
   "source": [
    "b_eq.shape"
   ]
  },
  {
   "cell_type": "code",
   "execution_count": 7,
   "id": "74333140",
   "metadata": {},
   "outputs": [
    {
     "data": {
      "text/plain": [
       "400"
      ]
     },
     "execution_count": 7,
     "metadata": {},
     "output_type": "execute_result"
    }
   ],
   "source": [
    "len(A_eq)"
   ]
  },
  {
   "cell_type": "code",
   "execution_count": null,
   "id": "25b2b939",
   "metadata": {},
   "outputs": [],
   "source": []
  }
 ],
 "metadata": {
  "kernelspec": {
   "display_name": "Python 3 (ipykernel)",
   "language": "python",
   "name": "python3"
  },
  "language_info": {
   "codemirror_mode": {
    "name": "ipython",
    "version": 3
   },
   "file_extension": ".py",
   "mimetype": "text/x-python",
   "name": "python",
   "nbconvert_exporter": "python",
   "pygments_lexer": "ipython3",
   "version": "3.9.13"
  }
 },
 "nbformat": 4,
 "nbformat_minor": 5
}
